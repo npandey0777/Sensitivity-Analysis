{
 "cells": [
  {
   "cell_type": "code",
   "execution_count": 4,
   "metadata": {},
   "outputs": [
    {
     "name": "stdout",
     "output_type": "stream",
     "text": [
      "seaborn version\t: 0.9.0\n"
     ]
    }
   ],
   "source": [
    "import pandas as pd\n",
    "import configparser\n",
    "import numpy as np\n",
    "from datetime import datetime\n",
    "import dateutil.relativedelta\n",
    "from matplotlib import pyplot as plt\n",
    "#%matplotlib inline\n",
    "import warnings\n",
    "warnings.filterwarnings(\"ignore\")\n",
    "import os\n",
    "import pickle\n",
    "\n",
    "\n",
    "from scipy import stats\n",
    "\n",
    "# Regular expressions\n",
    "import re\n",
    "\n",
    "# seaborn : advanced visualization\n",
    "import seaborn as sns\n",
    "print('seaborn version\\t:',sns.__version__)\n",
    "\n",
    "pd.options.mode.chained_assignment = None #set it to None to remove SettingWithCopyWarning\n",
    "pd.options.display.float_format = '{:.2f}'.format #set it to convert scientific noations such as 4.225108e+11 to 422510842796.00\n",
    "pd.set_option('display.max_columns', None) # to display all the columns\n",
    "pd.set_option('display.max_rows', None) # to display all the columns\n",
    "\n",
    "np.set_printoptions(suppress=True,formatter={'float_kind':'{:f}'.format})\n",
    "\n",
    "\n",
    "from IPython.core.interactiveshell import InteractiveShell  \n",
    "InteractiveShell.ast_node_interactivity = \"all\""
   ]
  },
  {
   "cell_type": "markdown",
   "metadata": {},
   "source": [
    "## RESTRUCTURED CASESS 90-DPD projections"
   ]
  },
  {
   "cell_type": "code",
   "execution_count": 42,
   "metadata": {},
   "outputs": [
    {
     "data": {
      "text/plain": [
       "(517564, 19)"
      ]
     },
     "execution_count": 42,
     "metadata": {},
     "output_type": "execute_result"
    },
    {
     "data": {
      "text/plain": [
       "(74162, 7)"
      ]
     },
     "execution_count": 42,
     "metadata": {},
     "output_type": "execute_result"
    }
   ],
   "source": [
    "Restr_df=pd.read_csv('D:\\Collections\\Adhoc\\RESTRUCTURE\\MAR21\\Restr_Ac_Status_SEP20_MAR21.csv')\n",
    "Restr_df.shape\n",
    "add_df=pd.read_csv('D:\\Collections\\Adhoc\\RESTRUCTURE\\FEB21\\RESTR_AC_JAN21.csv')\n",
    "add_df.shape"
   ]
  },
  {
   "cell_type": "code",
   "execution_count": 43,
   "metadata": {},
   "outputs": [
    {
     "data": {
      "text/plain": [
       "(517564, 20)"
      ]
     },
     "execution_count": 43,
     "metadata": {},
     "output_type": "execute_result"
    }
   ],
   "source": [
    "Restr_df=Restr_df.merge(add_df[['AGMTNO','Month']],on='AGMTNO',how='inner')\n",
    "Restr_df.shape"
   ]
  },
  {
   "cell_type": "code",
   "execution_count": 44,
   "metadata": {},
   "outputs": [
    {
     "data": {
      "text/plain": [
       "TW        414663\n",
       "OTHERS     58611\n",
       "TR_ALL     24394\n",
       "CA         19896\n",
       "Name: PORTFOLIO_NEW, dtype: int64"
      ]
     },
     "execution_count": 44,
     "metadata": {},
     "output_type": "execute_result"
    },
    {
     "data": {
      "text/plain": [
       "(517564, 21)"
      ]
     },
     "execution_count": 44,
     "metadata": {},
     "output_type": "execute_result"
    }
   ],
   "source": [
    "Restr_df['CUTDATE']=pd.to_datetime(Restr_df['CUTDATE'])\n",
    "Restr_df['PORTFOLIO_NEW']= Restr_df.PORT+FOLIO.to_list()\n",
    "Restr_df.loc[~Restr_df.PORTFOLIO.isin(['TW','CA','CD']),'PORTFOLIO_NEW']='OTHERS'\n",
    "Restr_df.loc[Restr_df.PORTFOLIO.isin(['AP', 'EG', 'RC', 'RV', 'TR', 'LT','LN']),'PORTFOLIO_NEW']='TR_ALL'\n",
    "Restr_df['PORTFOLIO_NEW'].value_counts(dropna=False)\n",
    "Restr_df.shape"
   ]
  },
  {
   "cell_type": "code",
   "execution_count": null,
   "metadata": {},
   "outputs": [],
   "source": [
    "alloc_df=pd.read_csv('D:\\Collections\\Adhoc\\RESTRUCTURE\\FEB21\\Restr_Ac_Status_AUG_FEB21_FCE.csv')\n",
    "alloc_df['CUTDATE']=pd.to_datetime(alloc_df['CUTDATE'])\n",
    "alloc_df.shape\n",
    "x_a=pd.merge(Restr_df,alloc_df,on=['AGMTNO','CUTDATE'],how='inner')\n",
    "x_a.shape"
   ]
  },
  {
   "cell_type": "code",
   "execution_count": 1452,
   "metadata": {},
   "outputs": [
    {
     "data": {
      "text/plain": [
       "(518532, 25)"
      ]
     },
     "execution_count": 1452,
     "metadata": {},
     "output_type": "execute_result"
    },
    {
     "data": {
      "text/plain": [
       "(8230, 25)"
      ]
     },
     "execution_count": 1452,
     "metadata": {},
     "output_type": "execute_result"
    },
    {
     "data": {
      "text/plain": [
       "(16262, 25)"
      ]
     },
     "execution_count": 1452,
     "metadata": {},
     "output_type": "execute_result"
    },
    {
     "data": {
      "text/plain": [
       "(12943, 25)"
      ]
     },
     "execution_count": 1452,
     "metadata": {},
     "output_type": "execute_result"
    },
    {
     "data": {
      "text/plain": [
       "(13655, 25)"
      ]
     },
     "execution_count": 1452,
     "metadata": {},
     "output_type": "execute_result"
    },
    {
     "data": {
      "text/plain": [
       "(7728, 25)"
      ]
     },
     "execution_count": 1452,
     "metadata": {},
     "output_type": "execute_result"
    },
    {
     "data": {
      "text/plain": [
       "(7023, 25)"
      ]
     },
     "execution_count": 1452,
     "metadata": {},
     "output_type": "execute_result"
    }
   ],
   "source": [
    "#x_all=x_a.query(\"Month=='Sep-20'\")\n",
    "x_all=x_a.copy()\n",
    "x_all.shape\n",
    "###################AUG_JAN for TW ########\n",
    "x_AUG=x_all[(x_all.CUTDATE=='2020-08-31') & (x_all.PORTFOLIO_NEW=='TW') & (x_all.ALLOCATION_TO=='FCE') & (x_all.OPEN_DPD_BKT_GRP==3) ]\n",
    "x_AUG.shape\n",
    "x_SEP=x_all[(x_all.CUTDATE=='2020-09-30') & (x_all.PORTFOLIO_NEW=='TW')& (x_all.ALLOCATION_TO=='FCE') & (x_all.OPEN_DPD_BKT_GRP==3)]\n",
    "x_SEP.shape\n",
    "x_OCT=x_all[(x_all.CUTDATE=='2020-10-31') & (x_all.PORTFOLIO_NEW=='TW') & (x_all.ALLOCATION_TO=='FCE') & (x_all.OPEN_DPD_BKT_GRP==3)]\n",
    "x_OCT.shape\n",
    "x_NOV=x_all[(x_all.CUTDATE=='2020-11-30') & (x_all.PORTFOLIO_NEW=='TW') & (x_all.ALLOCATION_TO=='FCE') & (x_all.OPEN_DPD_BKT_GRP==3)]\n",
    "x_NOV.shape\n",
    "x_DEC=x_all[(x_all.CUTDATE=='2020-12-31') & (x_all.PORTFOLIO_NEW=='TW') & (x_all.ALLOCATION_TO=='FCE') & (x_all.OPEN_DPD_BKT_GRP==3)]\n",
    "x_DEC.shape\n",
    "\n",
    "x_JAN=x_all[(x_all.CUTDATE=='2021-01-31') & (x_all.PORTFOLIO_NEW=='TW') & (x_all.ALLOCATION_TO=='FCE') & (x_all.OPEN_DPD_BKT_GRP==3)]\n",
    "x_JAN.shape\n",
    "\n",
    "# x_FEB=x_all[(x_all.CUTDATE=='2021-02-28') & (x_all.PORTFOLIO_NEW=='TW') & (x_all.ALLOCATION_TO=='FCE') & (x_all.OPEN_DPD_BKT_GRP==3)]\n",
    "# x_FEB.shape"
   ]
  },
  {
   "cell_type": "markdown",
   "metadata": {},
   "source": [
    "## Sensitivity Analysis of Restructure A/c"
   ]
  },
  {
   "cell_type": "code",
   "execution_count": 1454,
   "metadata": {},
   "outputs": [],
   "source": [
    "## For DEC\n",
    "incent_DEC_df= x_DEC.groupby(['ALLOCATION_CODE']).aggregate({'Amount':np.sum,'TOT_COLLECTABLE_AMT':np.sum,'TOT_COLLECTED_AMT':np.sum,'AGMTNO':'count',})\n",
    "incent_DEC_df.rename(columns={'Amount':'Tot_Incentive','AGMTNO':'No_of_Cases'},inplace=True)\n",
    "incent_DEC_df['Eff']=100*incent_DEC_df.TOT_COLLECTED_AMT/ incent_DEC_df.TOT_COLLECTABLE_AMT\n",
    "#incent_DEC_df.head()"
   ]
  },
  {
   "cell_type": "code",
   "execution_count": 1,
   "metadata": {},
   "outputs": [],
   "source": [
    "\n",
    "def create_inct_step(df):\n",
    "    incent_mean=df.Tot_Incentive.mean()\n",
    "    df['incentive_incr']=None\n",
    "    df.loc[df.Tot_Incentive <100,'incentive_incr']='incentive lt 100'\n",
    "    df.loc[df.Tot_Incentive.between(100,1000,inclusive=True),'incentive_incr']='incentive bw 100-1000'\n",
    "    df.loc[df.Tot_Incentive.between(1000,2000,inclusive=True),'incentive_incr']='incentive bw 1000-2000'\n",
    "    df.loc[df.Tot_Incentive.between(2000,3000,inclusive=True),'incentive_incr']='incentive bw 2000-3000'\n",
    "    df.loc[df.Tot_Incentive.between(3000,4000,inclusive=True),'incentive_incr']='incentive bw 3000-4000'\n",
    "    #df.loc[df.Tot_Incentive.between(4000,5000,inclusive=True),'incentive_incr']='incentive bw 4000-5000'\n",
    "    #df.loc[df.Tot_Incentive.between(5000,6000,inclusive=True),'incentive_incr']='incentive bw 5000-6000'\n",
    "    #df.loc[df.Tot_Incentive.between(6000,7000,inclusive=True),'incentive_incr']='incentive bw 6000-7000'\n",
    "    df.loc[df.Tot_Incentive >4000,'incentive_incr']='incentive gt 4000'\n",
    "    df['Eff_change']=(df.Eff-df.Eff.mean())\n",
    "    print(df['incentive_incr'].value_counts(dropna=False))\n",
    "    \n",
    "\n"
   ]
  },
  {
   "cell_type": "code",
   "execution_count": 1471,
   "metadata": {},
   "outputs": [
    {
     "name": "stdout",
     "output_type": "stream",
     "text": [
      "incentive gt 4000         1402\n",
      "incentive bw 1000-2000     429\n",
      "incentive bw 2000-3000     413\n",
      "incentive bw 3000-4000     378\n",
      "incentive bw 100-1000      356\n",
      "incentive lt 100           190\n",
      "Name: incentive_incr, dtype: int64\n"
     ]
    },
    {
     "data": {
      "text/plain": [
       "(3168, 7)"
      ]
     },
     "execution_count": 1471,
     "metadata": {},
     "output_type": "execute_result"
    },
    {
     "name": "stdout",
     "output_type": "stream",
     "text": [
      "incentive gt 4000         1265\n",
      "incentive bw 2000-3000     661\n",
      "incentive bw 1000-2000     641\n",
      "incentive lt 100           634\n",
      "incentive bw 3000-4000     591\n",
      "incentive bw 100-1000      499\n",
      "Name: incentive_incr, dtype: int64\n"
     ]
    },
    {
     "data": {
      "text/plain": [
       "(4291, 7)"
      ]
     },
     "execution_count": 1471,
     "metadata": {},
     "output_type": "execute_result"
    },
    {
     "name": "stdout",
     "output_type": "stream",
     "text": [
      "incentive bw 100-1000     2409\n",
      "incentive bw 1000-2000     718\n",
      "incentive lt 100           578\n",
      "incentive bw 2000-3000     159\n",
      "incentive bw 3000-4000     150\n",
      "incentive gt 4000           43\n",
      "Name: incentive_incr, dtype: int64\n"
     ]
    },
    {
     "data": {
      "text/plain": [
       "(4057, 7)"
      ]
     },
     "execution_count": 1471,
     "metadata": {},
     "output_type": "execute_result"
    },
    {
     "name": "stdout",
     "output_type": "stream",
     "text": [
      "incentive bw 100-1000     2464\n",
      "incentive lt 100           509\n",
      "incentive bw 1000-2000     454\n",
      "incentive gt 4000          265\n",
      "incentive bw 2000-3000     246\n",
      "incentive bw 3000-4000     199\n",
      "Name: incentive_incr, dtype: int64\n"
     ]
    },
    {
     "data": {
      "text/plain": [
       "(4137, 7)"
      ]
     },
     "execution_count": 1471,
     "metadata": {},
     "output_type": "execute_result"
    },
    {
     "name": "stdout",
     "output_type": "stream",
     "text": [
      "incentive gt 4000         898\n",
      "incentive bw 1000-2000    792\n",
      "incentive bw 100-1000     580\n",
      "incentive lt 100          411\n",
      "incentive bw 3000-4000    374\n",
      "incentive bw 2000-3000    373\n",
      "Name: incentive_incr, dtype: int64\n"
     ]
    },
    {
     "data": {
      "text/plain": [
       "(3428, 7)"
      ]
     },
     "execution_count": 1471,
     "metadata": {},
     "output_type": "execute_result"
    },
    {
     "data": {
      "text/plain": [
       "(19081, 7)"
      ]
     },
     "execution_count": 1471,
     "metadata": {},
     "output_type": "execute_result"
    },
    {
     "data": {
      "text/html": [
       "<div>\n",
       "<style scoped>\n",
       "    .dataframe tbody tr th:only-of-type {\n",
       "        vertical-align: middle;\n",
       "    }\n",
       "\n",
       "    .dataframe tbody tr th {\n",
       "        vertical-align: top;\n",
       "    }\n",
       "\n",
       "    .dataframe thead th {\n",
       "        text-align: right;\n",
       "    }\n",
       "</style>\n",
       "<table border=\"1\" class=\"dataframe\">\n",
       "  <thead>\n",
       "    <tr style=\"text-align: right;\">\n",
       "      <th></th>\n",
       "      <th>Tot_Incentive</th>\n",
       "      <th>TOT_COLLECTABLE_AMT</th>\n",
       "      <th>TOT_COLLECTED_AMT</th>\n",
       "      <th>No_of_Cases</th>\n",
       "      <th>Eff</th>\n",
       "      <th>incentive_incr</th>\n",
       "      <th>Eff_change</th>\n",
       "    </tr>\n",
       "  </thead>\n",
       "  <tbody>\n",
       "    <tr>\n",
       "      <th>0</th>\n",
       "      <td>12000.00</td>\n",
       "      <td>3624</td>\n",
       "      <td>0.00</td>\n",
       "      <td>1</td>\n",
       "      <td>0.00</td>\n",
       "      <td>incentive gt 4000</td>\n",
       "      <td>-19.73</td>\n",
       "    </tr>\n",
       "    <tr>\n",
       "      <th>1</th>\n",
       "      <td>14000.00</td>\n",
       "      <td>6065</td>\n",
       "      <td>1995.00</td>\n",
       "      <td>1</td>\n",
       "      <td>32.89</td>\n",
       "      <td>incentive gt 4000</td>\n",
       "      <td>13.16</td>\n",
       "    </tr>\n",
       "    <tr>\n",
       "      <th>2</th>\n",
       "      <td>2450.00</td>\n",
       "      <td>6828</td>\n",
       "      <td>0.00</td>\n",
       "      <td>1</td>\n",
       "      <td>0.00</td>\n",
       "      <td>incentive bw 2000-3000</td>\n",
       "      <td>-19.73</td>\n",
       "    </tr>\n",
       "    <tr>\n",
       "      <th>3</th>\n",
       "      <td>0.00</td>\n",
       "      <td>13008</td>\n",
       "      <td>3252.00</td>\n",
       "      <td>1</td>\n",
       "      <td>25.00</td>\n",
       "      <td>incentive lt 100</td>\n",
       "      <td>5.27</td>\n",
       "    </tr>\n",
       "    <tr>\n",
       "      <th>4</th>\n",
       "      <td>7850.00</td>\n",
       "      <td>10015</td>\n",
       "      <td>2500.00</td>\n",
       "      <td>1</td>\n",
       "      <td>24.96</td>\n",
       "      <td>incentive gt 4000</td>\n",
       "      <td>5.23</td>\n",
       "    </tr>\n",
       "  </tbody>\n",
       "</table>\n",
       "</div>"
      ],
      "text/plain": [
       "   Tot_Incentive  TOT_COLLECTABLE_AMT  TOT_COLLECTED_AMT  No_of_Cases   Eff  \\\n",
       "0       12000.00                 3624               0.00            1  0.00   \n",
       "1       14000.00                 6065            1995.00            1 32.89   \n",
       "2        2450.00                 6828               0.00            1  0.00   \n",
       "3           0.00                13008            3252.00            1 25.00   \n",
       "4        7850.00                10015            2500.00            1 24.96   \n",
       "\n",
       "           incentive_incr  Eff_change  \n",
       "0       incentive gt 4000      -19.73  \n",
       "1       incentive gt 4000       13.16  \n",
       "2  incentive bw 2000-3000      -19.73  \n",
       "3        incentive lt 100        5.27  \n",
       "4       incentive gt 4000        5.23  "
      ]
     },
     "execution_count": 1471,
     "metadata": {},
     "output_type": "execute_result"
    }
   ],
   "source": [
    "## For AUG\n",
    "incent_AUG_df= x_AUG.groupby(['ALLOCATION_CODE']).aggregate({'Amount':np.mean,'TOT_COLLECTABLE_AMT':np.sum,'TOT_COLLECTED_AMT':np.sum,'AGMTNO':'count',})\n",
    "incent_AUG_df.rename(columns={'Amount':'Tot_Incentive','AGMTNO':'No_of_Cases'},inplace=True)\n",
    "incent_AUG_df['Eff']=100*incent_AUG_df.TOT_COLLECTED_AMT/ incent_AUG_df.TOT_COLLECTABLE_AMT\n",
    "create_inct_step(incent_AUG_df)    \n",
    "incent_AUG_df.shape\n",
    "#incent_AUG_df.head()`\n",
    "\n",
    "## For SEP\n",
    "incent_SEP_df= x_SEP.groupby(['ALLOCATION_CODE']).aggregate({'Amount':np.mean,'TOT_COLLECTABLE_AMT':np.sum,'TOT_COLLECTED_AMT':np.sum,'AGMTNO':'count',})\n",
    "incent_SEP_df.rename(columns={'Amount':'Tot_Incentive','AGMTNO':'No_of_Cases'},inplace=True)\n",
    "incent_SEP_df['Eff']=100*incent_SEP_df.TOT_COLLECTED_AMT/ incent_SEP_df.TOT_COLLECTABLE_AMT\n",
    "create_inct_step(incent_SEP_df)    \n",
    "incent_SEP_df.shape\n",
    "#incent_SEP_df.head()\n",
    "\n",
    "## For OCT\n",
    "incent_OCT_df= x_OCT.groupby(['ALLOCATION_CODE']).aggregate({'Amount':np.mean,'TOT_COLLECTABLE_AMT':np.sum,'TOT_COLLECTED_AMT':np.sum,'AGMTNO':'count',})\n",
    "incent_OCT_df.rename(columns={'Amount':'Tot_Incentive','AGMTNO':'No_of_Cases'},inplace=True)\n",
    "incent_OCT_df['Eff']=100*incent_OCT_df.TOT_COLLECTED_AMT/ incent_OCT_df.TOT_COLLECTABLE_AMT\n",
    "create_inct_step(incent_OCT_df)    \n",
    "incent_OCT_df.shape\n",
    "#incent_OCT_df.head()\n",
    "\n",
    "## For NOV\n",
    "incent_NOV_df= x_NOV.groupby(['ALLOCATION_CODE']).aggregate({'Amount':np.mean,'TOT_COLLECTABLE_AMT':np.sum,'TOT_COLLECTED_AMT':np.sum,'AGMTNO':'count',})\n",
    "incent_NOV_df.rename(columns={'Amount':'Tot_Incentive','AGMTNO':'No_of_Cases'},inplace=True)\n",
    "incent_NOV_df['Eff']=100*incent_NOV_df.TOT_COLLECTED_AMT/ incent_NOV_df.TOT_COLLECTABLE_AMT\n",
    "create_inct_step(incent_NOV_df)    \n",
    "incent_NOV_df.shape\n",
    "#incent_NOV_df.head()\n",
    "\n",
    "## For DEC\n",
    "incent_DEC_df= x_DEC.groupby(['ALLOCATION_CODE']).aggregate({'Amount':np.mean,'TOT_COLLECTABLE_AMT':np.sum,'TOT_COLLECTED_AMT':np.sum,'AGMTNO':'count',})\n",
    "incent_DEC_df.rename(columns={'Amount':'Tot_Incentive','AGMTNO':'No_of_Cases'},inplace=True)\n",
    "incent_DEC_df['Eff']=100*incent_DEC_df.TOT_COLLECTED_AMT/ incent_DEC_df.TOT_COLLECTABLE_AMT\n",
    "create_inct_step(incent_DEC_df)    \n",
    "incent_DEC_df.shape\n",
    "#incent_DEC_df.head()\n",
    "\n",
    "incent_final_df=pd.concat([incent_AUG_df,incent_SEP_df,incent_OCT_df,incent_NOV_df,incent_DEC_df],ignore_index=True)\n",
    "#incent_final_df=pd.concat([incent_AUG_df,incent_SEP_df,incent_DEC_df],ignore_index=True)\n",
    "\n",
    "incent_final_df.shape\n",
    "incent_final_df.head()"
   ]
  },
  {
   "cell_type": "code",
   "execution_count": 1483,
   "metadata": {},
   "outputs": [
    {
     "data": {
      "text/plain": [
       "9.61396288371689"
      ]
     },
     "execution_count": 1483,
     "metadata": {},
     "output_type": "execute_result"
    },
    {
     "data": {
      "text/plain": [
       "<AxesSubplot:ylabel='incentive_incr'>"
      ]
     },
     "execution_count": 1483,
     "metadata": {},
     "output_type": "execute_result"
    },
    {
     "data": {
      "text/plain": [
       "Text(0.5, 0, 'Increase in Eff (from No_incentive Eff)')"
      ]
     },
     "execution_count": 1483,
     "metadata": {},
     "output_type": "execute_result"
    },
    {
     "data": {
      "text/plain": [
       "Text(0, 0.5, '')"
      ]
     },
     "execution_count": 1483,
     "metadata": {},
     "output_type": "execute_result"
    },
    {
     "data": {
      "text/plain": [
       "Text(0.5, 1.0, 'BKT3 EFF INCREASE vs INCENTIVE INCREASE')"
      ]
     },
     "execution_count": 1483,
     "metadata": {},
     "output_type": "execute_result"
    },
    {
     "data": {
      "image/png": "[encoded data removed]",
      "text/plain": [
       "<Figure size 432x288 with 1 Axes>"
      ]
     },
     "metadata": {
      "needs_background": "light"
     },
     "output_type": "display_data"
    }
   ],
   "source": [
    "mean_lt100=incent_final_df.query(\"incentive_incr=='incentive lt 100'\").Eff.mean()\n",
    "mean_lt100\n",
    "tmp=(incent_final_df.groupby('incentive_incr').Eff.mean()-mean_lt100)\n",
    "tmp.drop(index='incentive lt 100',inplace=True)\n",
    "#tmp=100*tmp/mean_lt100\n",
    "tmp.plot(kind='barh')\n",
    "plt.xlabel(\"Increase in Eff (from No_incentive Eff)\")\n",
    "plt.ylabel(\"\")\n",
    "plt.title(\"BKT3 EFF INCREASE vs INCENTIVE INCREASE\")"
   ]
  },
  {
   "cell_type": "code",
   "execution_count": 1484,
   "metadata": {},
   "outputs": [
    {
     "data": {
      "text/plain": [
       "<AxesSubplot:xlabel='incentive_incr'>"
      ]
     },
     "execution_count": 1484,
     "metadata": {},
     "output_type": "execute_result"
    },
    {
     "data": {
      "text/plain": [
       "Text(0.5, 0, '')"
      ]
     },
     "execution_count": 1484,
     "metadata": {},
     "output_type": "execute_result"
    },
    {
     "data": {
      "text/plain": [
       "Text(0, 0.5, 'Increase in Eff (from No_incentive Eff)')"
      ]
     },
     "execution_count": 1484,
     "metadata": {},
     "output_type": "execute_result"
    },
    {
     "data": {
      "text/plain": [
       "(array([-0.500000, 0.000000, 0.500000, 1.000000, 1.500000, 2.000000,\n",
       "        2.500000, 3.000000, 3.500000, 4.000000, 4.500000]),\n",
       " [Text(-0.5, 0, ''),\n",
       "  Text(0.0, 0, 'incentive bw 100-1000'),\n",
       "  Text(0.5, 0, ''),\n",
       "  Text(1.0, 0, 'incentive bw 1000-2000'),\n",
       "  Text(1.5, 0, ''),\n",
       "  Text(2.0, 0, 'incentive bw 2000-3000'),\n",
       "  Text(2.5, 0, ''),\n",
       "  Text(3.0, 0, 'incentive bw 3000-4000'),\n",
       "  Text(3.5, 0, ''),\n",
       "  Text(4.0, 0, 'incentive gt 4000'),\n",
       "  Text(4.5, 0, '')])"
      ]
     },
     "execution_count": 1484,
     "metadata": {},
     "output_type": "execute_result"
    },
    {
     "data": {
      "text/plain": [
       "Text(0.5, 1.0, 'BKT3 EFF INCREASE vs INCENTIVE INCREASE')"
      ]
     },
     "execution_count": 1484,
     "metadata": {},
     "output_type": "execute_result"
    },
    {
     "data": {
      "image/png": "[encoded data removed]",
      "text/plain": [
       "<Figure size 432x288 with 1 Axes>"
      ]
     },
     "metadata": {
      "needs_background": "light"
     },
     "output_type": "display_data"
    }
   ],
   "source": [
    "tmp.plot()\n",
    "plt.xlabel(\"\")\n",
    "plt.ylabel(\"Increase in Eff (from No_incentive Eff)\")\n",
    "plt.xticks(rotation = 90)\n",
    "plt.title(\"BKT3 EFF INCREASE vs INCENTIVE INCREASE\")"
   ]
  },
  {
   "cell_type": "code",
   "execution_count": 1485,
   "metadata": {},
   "outputs": [
    {
     "data": {
      "text/plain": [
       "incentive_incr\n",
       "incentive bw 100-1000    1.21\n",
       "incentive bw 1000-2000   1.48\n",
       "incentive bw 2000-3000   2.07\n",
       "incentive bw 3000-4000   2.94\n",
       "incentive gt 4000        3.60\n",
       "Name: Eff, dtype: float64"
      ]
     },
     "execution_count": 1485,
     "metadata": {},
     "output_type": "execute_result"
    }
   ],
   "source": [
    "tmp"
   ]
  },
  {
   "cell_type": "code",
   "execution_count": 1340,
   "metadata": {},
   "outputs": [
    {
     "data": {
      "text/plain": [
       "<AxesSubplot:xlabel='incentive_incr', ylabel='Eff_change'>"
      ]
     },
     "execution_count": 1340,
     "metadata": {},
     "output_type": "execute_result"
    },
    {
     "data": {
      "image/png": "[encoded data removed]",
      "text/plain": [
       "<Figure size 432x288 with 1 Axes>"
      ]
     },
     "metadata": {
      "needs_background": "light"
     },
     "output_type": "display_data"
    }
   ],
   "source": [
    "sns.boxplot(x=incent_final_df.incentive_incr,y=incent_final_df.Eff_change)"
   ]
  },
  {
   "cell_type": "markdown",
   "metadata": {},
   "source": [
    "## Sensitivity Analysis for NO_MORAT"
   ]
  },
  {
   "cell_type": "code",
   "execution_count": null,
   "metadata": {},
   "outputs": [],
   "source": [
    "incent_df=pd.read_excel('D:\\Collections\\Adhoc\\RESTRUCTURE\\FEB21\\FCE_INCENTIVE.xlsx',sheet_name='Sheet1')\n",
    "incent_df.rename(columns={'Emp Id':'ALLOCATION_CODE'},inplace=True)\n",
    "incent_df_copy=incent_df.copy()\n",
    "incent_df_copy.shape\n",
    "incent_df_copy.columns\n",
    "\n",
    "\n"
   ]
  },
  {
   "cell_type": "code",
   "execution_count": 9,
   "metadata": {},
   "outputs": [
    {
     "data": {
      "text/plain": [
       "(240239, 15)"
      ]
     },
     "execution_count": 9,
     "metadata": {},
     "output_type": "execute_result"
    },
    {
     "data": {
      "text/plain": [
       "(175761, 15)"
      ]
     },
     "execution_count": 9,
     "metadata": {},
     "output_type": "execute_result"
    }
   ],
   "source": [
    "incent_df=incent_df_copy.copy()\n",
    "incent_df['ALLOCATION_CODE']=incent_df.ALLOCATION_CODE.astype('str')\n",
    "incent_df['Month of']=pd.to_datetime(incent_df['Month of'],errors='coerce')\n",
    "incent_df['Month of'].fillna(incent_df['Month of'].value_counts().index[0],inplace=True)\n",
    "incent_df['MONTH']=incent_df['Month of'].dt.to_period('M')\n",
    "incent_df.shape\n",
    "incent_df=incent_df[incent_df.Product=='Two Wheeler']\n",
    "incent_df.shape"
   ]
  },
  {
   "cell_type": "code",
   "execution_count": 21,
   "metadata": {},
   "outputs": [
    {
     "data": {
      "text/plain": [
       "NO_MORAT    48460\n",
       "Name: MORAT_FLAG, dtype: int64"
      ]
     },
     "execution_count": 21,
     "metadata": {},
     "output_type": "execute_result"
    },
    {
     "data": {
      "text/plain": [
       "count   48460.00\n",
       "mean      831.37\n",
       "std      1161.81\n",
       "min         0.00\n",
       "25%       100.00\n",
       "50%       600.00\n",
       "75%      1100.00\n",
       "max     33597.72\n",
       "Name: Amount, dtype: float64"
      ]
     },
     "execution_count": 21,
     "metadata": {},
     "output_type": "execute_result"
    }
   ],
   "source": [
    "x_OCT=x_OCT[(x_OCT.OPEN_DPD_BKT_GRP==3) & (x_OCT.ALLOCATION_TO=='FCE') & (x_OCT.MORAT_FLAG=='NO_MORAT')]\n",
    "x_OCT.MORAT_FLAG.value_counts()\n",
    "x_OCT.Amount.describe()"
   ]
  },
  {
   "cell_type": "code",
   "execution_count": 105,
   "metadata": {},
   "outputs": [
    {
     "data": {
      "text/plain": [
       "(48460, 160)"
      ]
     },
     "execution_count": 105,
     "metadata": {},
     "output_type": "execute_result"
    },
    {
     "data": {
      "text/plain": [
       "(236141, 161)"
      ]
     },
     "execution_count": 105,
     "metadata": {},
     "output_type": "execute_result"
    },
    {
     "data": {
      "text/plain": [
       "(48460, 161)"
      ]
     },
     "execution_count": 105,
     "metadata": {},
     "output_type": "execute_result"
    },
    {
     "data": {
      "text/plain": [
       "(57150, 159)"
      ]
     },
     "execution_count": 105,
     "metadata": {},
     "output_type": "execute_result"
    },
    {
     "data": {
      "text/plain": [
       "(181291, 160)"
      ]
     },
     "execution_count": 105,
     "metadata": {},
     "output_type": "execute_result"
    },
    {
     "data": {
      "text/plain": [
       "(57150, 160)"
      ]
     },
     "execution_count": 105,
     "metadata": {},
     "output_type": "execute_result"
    },
    {
     "data": {
      "text/plain": [
       "(52687, 159)"
      ]
     },
     "execution_count": 105,
     "metadata": {},
     "output_type": "execute_result"
    },
    {
     "data": {
      "text/plain": [
       "(164600, 160)"
      ]
     },
     "execution_count": 105,
     "metadata": {},
     "output_type": "execute_result"
    },
    {
     "data": {
      "text/plain": [
       "(52687, 160)"
      ]
     },
     "execution_count": 105,
     "metadata": {},
     "output_type": "execute_result"
    }
   ],
   "source": [
    "##  For OCT\n",
    "x_OCT=pd.read_csv(r'D:\\Collections\\Adhoc\\TW\\Data\\TW_OCT.csv')\n",
    "x_OCT=x_OCT[(x_OCT.OPEN_DPD_BKT_GRP==3) & (x_OCT.ALLOCATION_TO=='FCE') & (x_OCT.MORAT_FLAG=='NO_MORAT')]\n",
    "x_OCT['CUTDATE'] = pd.to_datetime(x_OCT.CUTDATE)\n",
    "x_OCT['MONTH']=x_OCT.CUTDATE.dt.to_period('M')\n",
    "x_OCT['ALLOCATION_CODE'] =x_OCT.ALLOCATION_CODE.str.strip()\n",
    "x_OCT.shape\n",
    "x_OCT=x_OCT.merge(incent_df[['ALLOCATION_CODE','Amount','MONTH']],on=['ALLOCATION_CODE','MONTH'],how='left')\n",
    "x_OCT.shape\n",
    "x_OCT=x_OCT[~x_OCT.duplicated(subset=['AGMTNO','CUTDATE'])]\n",
    "x_OCT.Amount.fillna(0,inplace=True)\n",
    "x_OCT.shape\n",
    "\n",
    "## For NOV\n",
    "x_NOV=pd.read_csv(r'D:\\Collections\\Adhoc\\TW\\Data\\TW_NOV.csv')\n",
    "x_NOV=x_NOV[(x_NOV.OPEN_DPD_BKT_GRP==3) & (x_NOV.ALLOCATION_TO=='FCE') & (x_NOV.MORAT_FLAG=='NO_MORAT')]\n",
    "x_NOV['CUTDATE'] = pd.to_datetime(x_NOV.CUTDATE)\n",
    "x_NOV['MONTH']=x_NOV.CUTDATE.dt.to_period('M')\n",
    "x_NOV['ALLOCATION_CODE'] =x_NOV.ALLOCATION_CODE.str.strip()\n",
    "x_NOV.shape\n",
    "x_NOV=x_NOV.merge(incent_df[['ALLOCATION_CODE','Amount','MONTH']],on=['ALLOCATION_CODE','MONTH'],how='left')\n",
    "x_NOV.shape\n",
    "x_NOV=x_NOV[~x_NOV.duplicated(subset=['AGMTNO','CUTDATE'])]\n",
    "x_NOV.Amount.fillna(0,inplace=True)\n",
    "x_NOV.shape\n",
    "\n",
    "## For DEC\n",
    "x_DEC=pd.read_csv(r'D:\\Collections\\Adhoc\\TW\\Data\\TW_DEC.csv')\n",
    "x_DEC=x_DEC[(x_DEC.OPEN_DPD_BKT_GRP==3) & (x_DEC.ALLOCATION_TO=='FCE') & (x_DEC.MORAT_FLAG=='NO_MORAT')]\n",
    "x_DEC['CUTDATE'] = pd.to_datetime(x_DEC.CUTDATE)\n",
    "x_DEC['MONTH']=x_DEC.CUTDATE.dt.to_period('M')\n",
    "x_DEC['ALLOCATION_CODE'] =x_DEC.ALLOCATION_CODE.str.strip()\n",
    "x_DEC.shape\n",
    "x_DEC=x_DEC.merge(incent_df[['ALLOCATION_CODE','Amount','MONTH']],on=['ALLOCATION_CODE','MONTH'],how='left')\n",
    "x_DEC.shape\n",
    "x_DEC=x_DEC[~x_DEC.duplicated(subset=['AGMTNO','CUTDATE'])]\n",
    "x_DEC.Amount.fillna(0,inplace=True)\n",
    "x_DEC.shape\n"
   ]
  },
  {
   "cell_type": "code",
   "execution_count": 106,
   "metadata": {},
   "outputs": [],
   "source": [
    "def create_inct_step(df):\n",
    "    incent_mean=df.Tot_Incentive.mean()\n",
    "    df['incentive_incr']=None\n",
    "    df.loc[df.Tot_Incentive <100,'incentive_incr']='incentive lt 100'\n",
    "    df.loc[df.Tot_Incentive.between(100,1000,inclusive=True),'incentive_incr']='incentive bw 100-1000'\n",
    "    df.loc[df.Tot_Incentive.between(1000,2000,inclusive=True),'incentive_incr']='incentive bw 1000-2000'\n",
    "    df.loc[df.Tot_Incentive.between(2000,3000,inclusive=True),'incentive_incr']='incentive bw 2000-3000'\n",
    "    df.loc[df.Tot_Incentive.between(3000,4000,inclusive=True),'incentive_incr']='incentive bw 3000-4000'\n",
    "    #df.loc[df.Tot_Incentive.between(4000,5000,inclusive=True),'incentive_incr']='incentive bw 4000-5000'\n",
    "    #df.loc[df.Tot_Incentive.between(5000,6000,inclusive=True),'incentive_incr']='incentive bw 5000-6000'\n",
    "    #df.loc[df.Tot_Incentive.between(6000,7000,inclusive=True),'incentive_incr']='incentive bw 6000-7000'\n",
    "    df.loc[df.Tot_Incentive >4000,'incentive_incr']='incentive gt 4000'\n",
    "    df['Eff_change']=(df.Eff-df.Eff.mean())\n",
    "    print(df['incentive_incr'].value_counts(dropna=False))"
   ]
  },
  {
   "cell_type": "code",
   "execution_count": 108,
   "metadata": {},
   "outputs": [
    {
     "name": "stdout",
     "output_type": "stream",
     "text": [
      "incentive bw 100-1000     3091\n",
      "incentive lt 100          2146\n",
      "incentive bw 1000-2000     801\n",
      "incentive bw 2000-3000     222\n",
      "incentive bw 3000-4000     190\n",
      "incentive gt 4000           83\n",
      "Name: incentive_incr, dtype: int64\n"
     ]
    },
    {
     "data": {
      "text/plain": [
       "(6533, 7)"
      ]
     },
     "execution_count": 108,
     "metadata": {},
     "output_type": "execute_result"
    },
    {
     "name": "stdout",
     "output_type": "stream",
     "text": [
      "incentive bw 100-1000     2932\n",
      "incentive lt 100           958\n",
      "incentive bw 1000-2000     569\n",
      "incentive gt 4000          359\n",
      "incentive bw 2000-3000     315\n",
      "incentive bw 3000-4000     253\n",
      "Name: incentive_incr, dtype: int64\n"
     ]
    },
    {
     "data": {
      "text/plain": [
       "(5386, 7)"
      ]
     },
     "execution_count": 108,
     "metadata": {},
     "output_type": "execute_result"
    },
    {
     "name": "stdout",
     "output_type": "stream",
     "text": [
      "incentive gt 4000         1330\n",
      "incentive bw 1000-2000    1197\n",
      "incentive bw 100-1000      884\n",
      "incentive lt 100           620\n",
      "incentive bw 2000-3000     607\n",
      "incentive bw 3000-4000     548\n",
      "Name: incentive_incr, dtype: int64\n"
     ]
    },
    {
     "data": {
      "text/plain": [
       "(5186, 7)"
      ]
     },
     "execution_count": 108,
     "metadata": {},
     "output_type": "execute_result"
    },
    {
     "data": {
      "text/plain": [
       "(17105, 7)"
      ]
     },
     "execution_count": 108,
     "metadata": {},
     "output_type": "execute_result"
    }
   ],
   "source": [
    "## For OCT\n",
    "incent_OCT_NM_df= x_OCT.groupby(['ALLOCATION_CODE']).aggregate({'Amount':np.mean,'TOT_COLLECTABLE_AMT':np.sum,'TOT_COLLECTED_AMT':np.sum,'AGMTNO':'count',})\n",
    "incent_OCT_NM_df.rename(columns={'Amount':'Tot_Incentive','AGMTNO':'No_of_Cases'},inplace=True)\n",
    "incent_OCT_NM_df['Eff']=100*incent_OCT_NM_df.TOT_COLLECTED_AMT/ incent_OCT_NM_df.TOT_COLLECTABLE_AMT\n",
    "create_inct_step(incent_OCT_NM_df)    \n",
    "incent_OCT_NM_df.shape\n",
    "#incent_OCT_NM_df.head()\n",
    "\n",
    "## For NOV\n",
    "incent_NOV_NM_df= x_NOV.groupby(['ALLOCATION_CODE']).aggregate({'Amount':np.mean,'TOT_COLLECTABLE_AMT':np.sum,'TOT_COLLECTED_AMT':np.sum,'AGMTNO':'count',})\n",
    "incent_NOV_NM_df.rename(columns={'Amount':'Tot_Incentive','AGMTNO':'No_of_Cases'},inplace=True)\n",
    "incent_NOV_NM_df['Eff']=100*incent_NOV_NM_df.TOT_COLLECTED_AMT/ incent_NOV_NM_df.TOT_COLLECTABLE_AMT\n",
    "create_inct_step(incent_NOV_NM_df)    \n",
    "incent_NOV_NM_df.shape\n",
    "\n",
    "## For DEC\n",
    "incent_DEC_NM_df= x_DEC.groupby(['ALLOCATION_CODE']).aggregate({'Amount':np.mean,'TOT_COLLECTABLE_AMT':np.sum,'TOT_COLLECTED_AMT':np.sum,'AGMTNO':'count',})\n",
    "incent_DEC_NM_df.rename(columns={'Amount':'Tot_Incentive','AGMTNO':'No_of_Cases'},inplace=True)\n",
    "incent_DEC_NM_df['Eff']=100*incent_DEC_NM_df.TOT_COLLECTED_AMT/ incent_DEC_NM_df.TOT_COLLECTABLE_AMT\n",
    "create_inct_step(incent_DEC_NM_df)    \n",
    "incent_DEC_NM_df.shape\n",
    "#incent_DEC_NM_df.head()\n",
    "\n",
    "incent_final_NM_df=pd.concat([incent_OCT_NM_df,incent_NOV_NM_df,incent_DEC_NM_df],ignore_index=True)\n",
    "#incent_final_NM_df=pd.concat([incent_DEC_NM_df],ignore_index=True)\n",
    "incent_final_NM_df.shape"
   ]
  },
  {
   "cell_type": "code",
   "execution_count": 109,
   "metadata": {},
   "outputs": [
    {
     "data": {
      "text/plain": [
       "31.30693757138651"
      ]
     },
     "execution_count": 109,
     "metadata": {},
     "output_type": "execute_result"
    },
    {
     "data": {
      "text/plain": [
       "Tot_Incentive          3724\n",
       "TOT_COLLECTABLE_AMT    3724\n",
       "TOT_COLLECTED_AMT      3724\n",
       "No_of_Cases            3724\n",
       "Eff                    3724\n",
       "incentive_incr         3724\n",
       "Eff_change             3724\n",
       "dtype: int64"
      ]
     },
     "execution_count": 109,
     "metadata": {},
     "output_type": "execute_result"
    },
    {
     "data": {
      "text/plain": [
       "<AxesSubplot:ylabel='incentive_incr'>"
      ]
     },
     "execution_count": 109,
     "metadata": {},
     "output_type": "execute_result"
    },
    {
     "data": {
      "text/plain": [
       "Text(0.5, 0, 'Increase in Eff (from No_incentive Eff)')"
      ]
     },
     "execution_count": 109,
     "metadata": {},
     "output_type": "execute_result"
    },
    {
     "data": {
      "text/plain": [
       "Text(0, 0.5, '')"
      ]
     },
     "execution_count": 109,
     "metadata": {},
     "output_type": "execute_result"
    },
    {
     "data": {
      "text/plain": [
       "Text(0.5, 1.0, 'BKT3 EFF INCREASE vs INCENTIVE INCREASE- NO_MORAT')"
      ]
     },
     "execution_count": 109,
     "metadata": {},
     "output_type": "execute_result"
    },
    {
     "data": {
      "image/png": "[encoded data removed]",
      "text/plain": [
       "<Figure size 432x288 with 1 Axes>"
      ]
     },
     "metadata": {
      "needs_background": "light"
     },
     "output_type": "display_data"
    }
   ],
   "source": [
    "mean_lt100=incent_final_NM_df.query(\"incentive_incr=='incentive lt 100'\").Eff.mean()\n",
    "mean_lt100\n",
    "incent_final_NM_df.query(\"incentive_incr=='incentive lt 100'\").count()\n",
    "tmp=(incent_final_NM_df.groupby('incentive_incr').Eff.mean()-mean_lt100)\n",
    "tmp.drop(index='incentive lt 100',inplace=True)\n",
    "#tmp=100*tmp/mean_lt100\n",
    "tmp.plot(kind='barh')\n",
    "plt.xlabel(\"Increase in Eff (from No_incentive Eff)\")\n",
    "plt.ylabel(\"\")\n",
    "plt.title(\"BKT3 EFF INCREASE vs INCENTIVE INCREASE- NO_MORAT\")"
   ]
  },
  {
   "cell_type": "code",
   "execution_count": 110,
   "metadata": {},
   "outputs": [
    {
     "data": {
      "text/plain": [
       "<AxesSubplot:xlabel='incentive_incr'>"
      ]
     },
     "execution_count": 110,
     "metadata": {},
     "output_type": "execute_result"
    },
    {
     "data": {
      "text/plain": [
       "Text(0.5, 0, '')"
      ]
     },
     "execution_count": 110,
     "metadata": {},
     "output_type": "execute_result"
    },
    {
     "data": {
      "text/plain": [
       "Text(0, 0.5, 'Increase in Eff (from No_incentive Eff)')"
      ]
     },
     "execution_count": 110,
     "metadata": {},
     "output_type": "execute_result"
    },
    {
     "data": {
      "text/plain": [
       "(array([-0.500000, 0.000000, 0.500000, 1.000000, 1.500000, 2.000000,\n",
       "        2.500000, 3.000000, 3.500000, 4.000000, 4.500000]),\n",
       " [Text(-0.5, 0, ''),\n",
       "  Text(0.0, 0, 'incentive bw 100-1000'),\n",
       "  Text(0.5, 0, ''),\n",
       "  Text(1.0, 0, 'incentive bw 1000-2000'),\n",
       "  Text(1.5, 0, ''),\n",
       "  Text(2.0, 0, 'incentive bw 2000-3000'),\n",
       "  Text(2.5, 0, ''),\n",
       "  Text(3.0, 0, 'incentive bw 3000-4000'),\n",
       "  Text(3.5, 0, ''),\n",
       "  Text(4.0, 0, 'incentive gt 4000'),\n",
       "  Text(4.5, 0, '')])"
      ]
     },
     "execution_count": 110,
     "metadata": {},
     "output_type": "execute_result"
    },
    {
     "data": {
      "text/plain": [
       "Text(0.5, 1.0, 'BKT3 EFF INCREASE vs INCENTIVE INCREASE')"
      ]
     },
     "execution_count": 110,
     "metadata": {},
     "output_type": "execute_result"
    },
    {
     "data": {
      "image/png": "[encoded data removed]",
      "text/plain": [
       "<Figure size 432x288 with 1 Axes>"
      ]
     },
     "metadata": {
      "needs_background": "light"
     },
     "output_type": "display_data"
    }
   ],
   "source": [
    "tmp.plot()\n",
    "plt.xlabel(\"\")\n",
    "plt.ylabel(\"Increase in Eff (from No_incentive Eff)\")\n",
    "plt.xticks(rotation = 90)\n",
    "plt.title(\"BKT3 EFF INCREASE vs INCENTIVE INCREASE\")"
   ]
  },
  {
   "cell_type": "code",
   "execution_count": 112,
   "metadata": {},
   "outputs": [
    {
     "data": {
      "text/plain": [
       "incentive_incr\n",
       "incentive bw 100-1000    0.50\n",
       "incentive bw 1000-2000   0.79\n",
       "incentive bw 2000-3000   1.81\n",
       "incentive bw 3000-4000   2.25\n",
       "incentive gt 4000        3.10\n",
       "Name: Eff, dtype: float64"
      ]
     },
     "execution_count": 112,
     "metadata": {},
     "output_type": "execute_result"
    }
   ],
   "source": [
    "tmp"
   ]
  },
  {
   "cell_type": "code",
   "execution_count": 111,
   "metadata": {},
   "outputs": [
    {
     "data": {
      "text/plain": [
       "incentive_incr\n",
       "incentive bw 100-1000     6907\n",
       "incentive bw 1000-2000    2567\n",
       "incentive bw 2000-3000    1144\n",
       "incentive bw 3000-4000     991\n",
       "incentive gt 4000         1772\n",
       "incentive lt 100          3724\n",
       "Name: Tot_Incentive, dtype: int64"
      ]
     },
     "execution_count": 111,
     "metadata": {},
     "output_type": "execute_result"
    }
   ],
   "source": [
    "incent_final_NM_df.groupby('incentive_incr').Tot_Incentive.count()"
   ]
  },
  {
   "cell_type": "markdown",
   "metadata": {},
   "source": [
    "## Sensitivity Analysis for GEN_MORAT"
   ]
  },
  {
   "cell_type": "code",
   "execution_count": 113,
   "metadata": {},
   "outputs": [
    {
     "data": {
      "text/plain": [
       "(16555, 160)"
      ]
     },
     "execution_count": 113,
     "metadata": {},
     "output_type": "execute_result"
    },
    {
     "data": {
      "text/plain": [
       "(80688, 161)"
      ]
     },
     "execution_count": 113,
     "metadata": {},
     "output_type": "execute_result"
    },
    {
     "data": {
      "text/plain": [
       "(16555, 161)"
      ]
     },
     "execution_count": 113,
     "metadata": {},
     "output_type": "execute_result"
    },
    {
     "data": {
      "text/plain": [
       "(20020, 159)"
      ]
     },
     "execution_count": 113,
     "metadata": {},
     "output_type": "execute_result"
    },
    {
     "data": {
      "text/plain": [
       "(62238, 160)"
      ]
     },
     "execution_count": 113,
     "metadata": {},
     "output_type": "execute_result"
    },
    {
     "data": {
      "text/plain": [
       "(20020, 160)"
      ]
     },
     "execution_count": 113,
     "metadata": {},
     "output_type": "execute_result"
    },
    {
     "data": {
      "text/plain": [
       "(20235, 159)"
      ]
     },
     "execution_count": 113,
     "metadata": {},
     "output_type": "execute_result"
    },
    {
     "data": {
      "text/plain": [
       "(66848, 160)"
      ]
     },
     "execution_count": 113,
     "metadata": {},
     "output_type": "execute_result"
    },
    {
     "data": {
      "text/plain": [
       "(20235, 160)"
      ]
     },
     "execution_count": 113,
     "metadata": {},
     "output_type": "execute_result"
    }
   ],
   "source": [
    "##  For OCT\n",
    "x_OCT=pd.read_csv(r'D:\\Collections\\Adhoc\\TW\\Data\\TW_OCT.csv')\n",
    "x_OCT=x_OCT[(x_OCT.OPEN_DPD_BKT_GRP==3) & (x_OCT.ALLOCATION_TO=='FCE') & (x_OCT.MORAT_FLAG=='Gen_Morat')]\n",
    "x_OCT['CUTDATE'] = pd.to_datetime(x_OCT.CUTDATE)\n",
    "x_OCT['MONTH']=x_OCT.CUTDATE.dt.to_period('M')\n",
    "x_OCT['ALLOCATION_CODE'] =x_OCT.ALLOCATION_CODE.str.strip()\n",
    "x_OCT.shape\n",
    "x_OCT=x_OCT.merge(incent_df[['ALLOCATION_CODE','Amount','MONTH']],on=['ALLOCATION_CODE','MONTH'],how='left')\n",
    "x_OCT.shape\n",
    "x_OCT=x_OCT[~x_OCT.duplicated(subset=['AGMTNO','CUTDATE'])]\n",
    "x_OCT.Amount.fillna(0,inplace=True)\n",
    "x_OCT.shape\n",
    "\n",
    "## For NOV\n",
    "x_NOV=pd.read_csv(r'D:\\Collections\\Adhoc\\TW\\Data\\TW_NOV.csv')\n",
    "x_NOV=x_NOV[(x_NOV.OPEN_DPD_BKT_GRP==3) & (x_NOV.ALLOCATION_TO=='FCE') & (x_NOV.MORAT_FLAG=='Gen_Morat')]\n",
    "x_NOV['CUTDATE'] = pd.to_datetime(x_NOV.CUTDATE)\n",
    "x_NOV['MONTH']=x_NOV.CUTDATE.dt.to_period('M')\n",
    "x_NOV.shape\n",
    "x_NOV=x_NOV.merge(incent_df[['ALLOCATION_CODE','Amount','MONTH']],on=['ALLOCATION_CODE','MONTH'],how='left')\n",
    "x_NOV['ALLOCATION_CODE'] =x_NOV.ALLOCATION_CODE.str.strip()\n",
    "x_NOV.shape\n",
    "x_NOV=x_NOV[~x_NOV.duplicated(subset=['AGMTNO','CUTDATE'])]\n",
    "x_NOV.Amount.fillna(0,inplace=True)\n",
    "x_NOV.shape\n",
    "\n",
    "## For DEC\n",
    "x_DEC=pd.read_csv(r'D:\\Collections\\Adhoc\\TW\\Data\\TW_DEC.csv')\n",
    "x_DEC=x_DEC[(x_DEC.OPEN_DPD_BKT_GRP==3) & (x_DEC.ALLOCATION_TO=='FCE') & (x_DEC.MORAT_FLAG=='Gen_Morat')]\n",
    "x_DEC['CUTDATE'] = pd.to_datetime(x_DEC.CUTDATE)\n",
    "x_DEC['MONTH']=x_DEC.CUTDATE.dt.to_period('M')\n",
    "x_DEC['ALLOCATION_CODE'] =x_DEC.ALLOCATION_CODE.str.strip()\n",
    "x_DEC.shape\n",
    "x_DEC=x_DEC.merge(incent_df[['ALLOCATION_CODE','Amount','MONTH']],on=['ALLOCATION_CODE','MONTH'],how='left')\n",
    "x_DEC.shape\n",
    "x_DEC=x_DEC[~x_DEC.duplicated(subset=['AGMTNO','CUTDATE'])]\n",
    "x_DEC.Amount.fillna(0,inplace=True)\n",
    "x_DEC.shape\n"
   ]
  },
  {
   "cell_type": "code",
   "execution_count": 114,
   "metadata": {},
   "outputs": [],
   "source": [
    "def create_inct_step(df):\n",
    "    incent_mean=df.Tot_Incentive.mean()\n",
    "    df['incentive_incr']=None\n",
    "    df.loc[df.Tot_Incentive <100,'incentive_incr']='incentive lt 100'\n",
    "    df.loc[df.Tot_Incentive.between(100,1000,inclusive=True),'incentive_incr']='incentive bw 100-1000'\n",
    "    df.loc[df.Tot_Incentive.between(1000,2000,inclusive=True),'incentive_incr']='incentive bw 1000-2000'\n",
    "    df.loc[df.Tot_Incentive.between(2000,3000,inclusive=True),'incentive_incr']='incentive bw 2000-3000'\n",
    "    df.loc[df.Tot_Incentive.between(3000,4000,inclusive=True),'incentive_incr']='incentive bw 3000-4000'\n",
    "    #df.loc[df.Tot_Incentive.between(4000,5000,inclusive=True),'incentive_incr']='incentive bw 4000-5000'\n",
    "    #df.loc[df.Tot_Incentive.between(5000,6000,inclusive=True),'incentive_incr']='incentive bw 5000-6000'\n",
    "    #df.loc[df.Tot_Incentive.between(6000,7000,inclusive=True),'incentive_incr']='incentive bw 6000-7000'\n",
    "    df.loc[df.Tot_Incentive >4000,'incentive_incr']='incentive gt 4000'\n",
    "    df['Eff_change']=(df.Eff-df.Eff.mean())\n",
    "    print(df['incentive_incr'].value_counts(dropna=False))"
   ]
  },
  {
   "cell_type": "code",
   "execution_count": 115,
   "metadata": {},
   "outputs": [
    {
     "name": "stdout",
     "output_type": "stream",
     "text": [
      "incentive bw 100-1000     2565\n",
      "incentive lt 100           958\n",
      "incentive bw 1000-2000     726\n",
      "incentive bw 2000-3000     185\n",
      "incentive bw 3000-4000     156\n",
      "incentive gt 4000           50\n",
      "Name: incentive_incr, dtype: int64\n"
     ]
    },
    {
     "data": {
      "text/plain": [
       "(4640, 7)"
      ]
     },
     "execution_count": 115,
     "metadata": {},
     "output_type": "execute_result"
    },
    {
     "name": "stdout",
     "output_type": "stream",
     "text": [
      "incentive bw 100-1000     2345\n",
      "incentive lt 100           643\n",
      "incentive bw 1000-2000     491\n",
      "incentive gt 4000          289\n",
      "incentive bw 2000-3000     261\n",
      "incentive bw 3000-4000     209\n",
      "Name: incentive_incr, dtype: int64\n"
     ]
    },
    {
     "data": {
      "text/plain": [
       "(4238, 7)"
      ]
     },
     "execution_count": 115,
     "metadata": {},
     "output_type": "execute_result"
    },
    {
     "name": "stdout",
     "output_type": "stream",
     "text": [
      "incentive gt 4000         1217\n",
      "incentive bw 1000-2000    1077\n",
      "incentive bw 100-1000      805\n",
      "incentive bw 2000-3000     549\n",
      "incentive lt 100           541\n",
      "incentive bw 3000-4000     485\n",
      "Name: incentive_incr, dtype: int64\n"
     ]
    },
    {
     "data": {
      "text/plain": [
       "(4674, 7)"
      ]
     },
     "execution_count": 115,
     "metadata": {},
     "output_type": "execute_result"
    },
    {
     "data": {
      "text/plain": [
       "(13552, 7)"
      ]
     },
     "execution_count": 115,
     "metadata": {},
     "output_type": "execute_result"
    }
   ],
   "source": [
    "## For OCT\n",
    "incent_OCT_GM_df= x_OCT.groupby(['ALLOCATION_CODE']).aggregate({'Amount':np.mean,'TOT_COLLECTABLE_AMT':np.sum,'TOT_COLLECTED_AMT':np.sum,'AGMTNO':'count',})\n",
    "incent_OCT_GM_df.rename(columns={'Amount':'Tot_Incentive','AGMTNO':'No_of_Cases'},inplace=True)\n",
    "incent_OCT_GM_df['Eff']=100*incent_OCT_GM_df.TOT_COLLECTED_AMT/ incent_OCT_GM_df.TOT_COLLECTABLE_AMT\n",
    "create_inct_step(incent_OCT_GM_df)    \n",
    "incent_OCT_GM_df.shape\n",
    "#incent_OCT_GM_df.head()\n",
    "\n",
    "## For NOV\n",
    "incent_NOV_GM_df= x_NOV.groupby(['ALLOCATION_CODE']).aggregate({'Amount':np.mean,'TOT_COLLECTABLE_AMT':np.sum,'TOT_COLLECTED_AMT':np.sum,'AGMTNO':'count',})\n",
    "incent_NOV_GM_df.rename(columns={'Amount':'Tot_Incentive','AGMTNO':'No_of_Cases'},inplace=True)\n",
    "incent_NOV_GM_df['Eff']=100*incent_NOV_GM_df.TOT_COLLECTED_AMT/ incent_NOV_GM_df.TOT_COLLECTABLE_AMT\n",
    "create_inct_step(incent_NOV_GM_df)    \n",
    "incent_NOV_GM_df.shape\n",
    "\n",
    "## For DEC\n",
    "incent_DEC_GM_df= x_DEC.groupby(['ALLOCATION_CODE']).aggregate({'Amount':np.mean,'TOT_COLLECTABLE_AMT':np.sum,'TOT_COLLECTED_AMT':np.sum,'AGMTNO':'count',})\n",
    "incent_DEC_GM_df.rename(columns={'Amount':'Tot_Incentive','AGMTNO':'No_of_Cases'},inplace=True)\n",
    "incent_DEC_GM_df['Eff']=100*incent_DEC_GM_df.TOT_COLLECTED_AMT/ incent_DEC_GM_df.TOT_COLLECTABLE_AMT\n",
    "create_inct_step(incent_DEC_GM_df)    \n",
    "incent_DEC_GM_df.shape\n",
    "#incent_DEC_GM_df.head()\n",
    "\n",
    "incent_final_GM_df=pd.concat([incent_OCT_GM_df,incent_NOV_GM_df,incent_DEC_GM_df],ignore_index=True)\n",
    "#incent_final_GM_df=pd.concat([incent_DEC_GM_df],ignore_index=True)\n",
    "incent_final_GM_df.shape"
   ]
  },
  {
   "cell_type": "code",
   "execution_count": 116,
   "metadata": {},
   "outputs": [
    {
     "data": {
      "text/plain": [
       "26.554996106993627"
      ]
     },
     "execution_count": 116,
     "metadata": {},
     "output_type": "execute_result"
    },
    {
     "data": {
      "text/plain": [
       "<AxesSubplot:ylabel='incentive_incr'>"
      ]
     },
     "execution_count": 116,
     "metadata": {},
     "output_type": "execute_result"
    },
    {
     "data": {
      "text/plain": [
       "Text(0.5, 0, 'Increase in Eff (from No_incentive Eff)')"
      ]
     },
     "execution_count": 116,
     "metadata": {},
     "output_type": "execute_result"
    },
    {
     "data": {
      "text/plain": [
       "Text(0, 0.5, '')"
      ]
     },
     "execution_count": 116,
     "metadata": {},
     "output_type": "execute_result"
    },
    {
     "data": {
      "text/plain": [
       "Text(0.5, 1.0, 'BKT3 EFF INCREASE vs INCENTIVE INCREASE- GEN MORAT')"
      ]
     },
     "execution_count": 116,
     "metadata": {},
     "output_type": "execute_result"
    },
    {
     "data": {
      "image/png": "[encoded data removed]",
      "text/plain": [
       "<Figure size 432x288 with 1 Axes>"
      ]
     },
     "metadata": {
      "needs_background": "light"
     },
     "output_type": "display_data"
    }
   ],
   "source": [
    "mean_lt100=incent_final_GM_df.query(\"incentive_incr=='incentive lt 100'\").Eff.mean()\n",
    "mean_lt100\n",
    "tmp=(incent_final_GM_df.groupby('incentive_incr').Eff.mean()-mean_lt100)\n",
    "tmp.drop(index='incentive lt 100',inplace=True)\n",
    "#tmp=100*tmp/mean_lt100\n",
    "tmp.plot(kind='barh')\n",
    "plt.xlabel(\"Increase in Eff (from No_incentive Eff)\")\n",
    "plt.ylabel(\"\")\n",
    "plt.title(\"BKT3 EFF INCREASE vs INCENTIVE INCREASE- GEN MORAT\")"
   ]
  },
  {
   "cell_type": "code",
   "execution_count": 117,
   "metadata": {},
   "outputs": [
    {
     "data": {
      "text/plain": [
       "<AxesSubplot:xlabel='incentive_incr'>"
      ]
     },
     "execution_count": 117,
     "metadata": {},
     "output_type": "execute_result"
    },
    {
     "data": {
      "text/plain": [
       "Text(0.5, 0, '')"
      ]
     },
     "execution_count": 117,
     "metadata": {},
     "output_type": "execute_result"
    },
    {
     "data": {
      "text/plain": [
       "Text(0, 0.5, 'Increase in Eff (from No_incentive Eff)')"
      ]
     },
     "execution_count": 117,
     "metadata": {},
     "output_type": "execute_result"
    },
    {
     "data": {
      "text/plain": [
       "(array([-0.500000, 0.000000, 0.500000, 1.000000, 1.500000, 2.000000,\n",
       "        2.500000, 3.000000, 3.500000, 4.000000, 4.500000]),\n",
       " [Text(-0.5, 0, ''),\n",
       "  Text(0.0, 0, 'incentive bw 100-1000'),\n",
       "  Text(0.5, 0, ''),\n",
       "  Text(1.0, 0, 'incentive bw 1000-2000'),\n",
       "  Text(1.5, 0, ''),\n",
       "  Text(2.0, 0, 'incentive bw 2000-3000'),\n",
       "  Text(2.5, 0, ''),\n",
       "  Text(3.0, 0, 'incentive bw 3000-4000'),\n",
       "  Text(3.5, 0, ''),\n",
       "  Text(4.0, 0, 'incentive gt 4000'),\n",
       "  Text(4.5, 0, '')])"
      ]
     },
     "execution_count": 117,
     "metadata": {},
     "output_type": "execute_result"
    },
    {
     "data": {
      "text/plain": [
       "Text(0.5, 1.0, 'BKT3 EFF INCREASE vs INCENTIVE INCREASE')"
      ]
     },
     "execution_count": 117,
     "metadata": {},
     "output_type": "execute_result"
    },
    {
     "data": {
      "image/png": "[encoded data removed]",
      "text/plain": [
       "<Figure size 432x288 with 1 Axes>"
      ]
     },
     "metadata": {
      "needs_background": "light"
     },
     "output_type": "display_data"
    }
   ],
   "source": [
    "tmp.plot()\n",
    "plt.xlabel(\"\")\n",
    "plt.ylabel(\"Increase in Eff (from No_incentive Eff)\")\n",
    "plt.xticks(rotation = 90)\n",
    "plt.title(\"BKT3 EFF INCREASE vs INCENTIVE INCREASE\")"
   ]
  },
  {
   "cell_type": "code",
   "execution_count": 118,
   "metadata": {},
   "outputs": [
    {
     "data": {
      "text/plain": [
       "incentive_incr\n",
       "incentive bw 100-1000    0.45\n",
       "incentive bw 1000-2000   0.77\n",
       "incentive bw 2000-3000   2.76\n",
       "incentive bw 3000-4000   2.28\n",
       "incentive gt 4000        3.08\n",
       "Name: Eff, dtype: float64"
      ]
     },
     "execution_count": 118,
     "metadata": {},
     "output_type": "execute_result"
    }
   ],
   "source": [
    "tmp"
   ]
  },
  {
   "cell_type": "code",
   "execution_count": 119,
   "metadata": {},
   "outputs": [
    {
     "data": {
      "text/plain": [
       "incentive_incr\n",
       "incentive bw 100-1000     5715\n",
       "incentive bw 1000-2000    2294\n",
       "incentive bw 2000-3000     995\n",
       "incentive bw 3000-4000     850\n",
       "incentive gt 4000         1556\n",
       "incentive lt 100          2142\n",
       "Name: Tot_Incentive, dtype: int64"
      ]
     },
     "execution_count": 119,
     "metadata": {},
     "output_type": "execute_result"
    }
   ],
   "source": [
    "incent_final_GM_df.groupby('incentive_incr').Tot_Incentive.count()"
   ]
  },
  {
   "cell_type": "markdown",
   "metadata": {},
   "source": [
    "## Sensitivity Analysis for SUO_MORAT"
   ]
  },
  {
   "cell_type": "code",
   "execution_count": 120,
   "metadata": {},
   "outputs": [
    {
     "data": {
      "text/plain": [
       "(29031, 160)"
      ]
     },
     "execution_count": 120,
     "metadata": {},
     "output_type": "execute_result"
    },
    {
     "data": {
      "text/plain": [
       "(141368, 161)"
      ]
     },
     "execution_count": 120,
     "metadata": {},
     "output_type": "execute_result"
    },
    {
     "data": {
      "text/plain": [
       "(29031, 161)"
      ]
     },
     "execution_count": 120,
     "metadata": {},
     "output_type": "execute_result"
    },
    {
     "data": {
      "text/plain": [
       "(40718, 159)"
      ]
     },
     "execution_count": 120,
     "metadata": {},
     "output_type": "execute_result"
    },
    {
     "data": {
      "text/plain": [
       "(124242, 160)"
      ]
     },
     "execution_count": 120,
     "metadata": {},
     "output_type": "execute_result"
    },
    {
     "data": {
      "text/plain": [
       "(40718, 160)"
      ]
     },
     "execution_count": 120,
     "metadata": {},
     "output_type": "execute_result"
    },
    {
     "data": {
      "text/plain": [
       "(38740, 159)"
      ]
     },
     "execution_count": 120,
     "metadata": {},
     "output_type": "execute_result"
    },
    {
     "data": {
      "text/plain": [
       "(125488, 160)"
      ]
     },
     "execution_count": 120,
     "metadata": {},
     "output_type": "execute_result"
    },
    {
     "data": {
      "text/plain": [
       "(38740, 160)"
      ]
     },
     "execution_count": 120,
     "metadata": {},
     "output_type": "execute_result"
    }
   ],
   "source": [
    "##  For OCT\n",
    "x_OCT=pd.read_csv(r'D:\\Collections\\Adhoc\\TW\\Data\\TW_OCT.csv')\n",
    "x_OCT=x_OCT[(x_OCT.OPEN_DPD_BKT_GRP==3) & (x_OCT.ALLOCATION_TO=='FCE') & (x_OCT.MORAT_FLAG=='SuoMoto')]\n",
    "x_OCT['CUTDATE'] = pd.to_datetime(x_OCT.CUTDATE)\n",
    "x_OCT['MONTH']=x_OCT.CUTDATE.dt.to_period('M')\n",
    "x_OCT['ALLOCATION_CODE'] =x_OCT.ALLOCATION_CODE.str.strip()\n",
    "x_OCT.shape\n",
    "x_OCT=x_OCT.merge(incent_df[['ALLOCATION_CODE','Amount','MONTH']],on=['ALLOCATION_CODE','MONTH'],how='left')\n",
    "x_OCT.shape\n",
    "x_OCT=x_OCT[~x_OCT.duplicated(subset=['AGMTNO','CUTDATE'])]\n",
    "x_OCT.Amount.fillna(0,inplace=True)\n",
    "x_OCT.shape\n",
    "\n",
    "## For NOV\n",
    "x_NOV=pd.read_csv(r'D:\\Collections\\Adhoc\\TW\\Data\\TW_NOV.csv')\n",
    "x_NOV=x_NOV[(x_NOV.OPEN_DPD_BKT_GRP==3) & (x_NOV.ALLOCATION_TO=='FCE') & (x_NOV.MORAT_FLAG=='SuoMoto')]\n",
    "x_NOV['CUTDATE'] = pd.to_datetime(x_NOV.CUTDATE)\n",
    "x_NOV['MONTH']=x_NOV.CUTDATE.dt.to_period('M')\n",
    "x_NOV['ALLOCATION_CODE'] =x_NOV.ALLOCATION_CODE.str.strip()\n",
    "x_NOV.shape\n",
    "x_NOV=x_NOV.merge(incent_df[['ALLOCATION_CODE','Amount','MONTH']],on=['ALLOCATION_CODE','MONTH'],how='left')\n",
    "x_NOV.shape\n",
    "x_NOV=x_NOV[~x_NOV.duplicated(subset=['AGMTNO','CUTDATE'])]\n",
    "x_NOV.Amount.fillna(0,inplace=True)\n",
    "x_NOV.shape\n",
    "\n",
    "## For DEC\n",
    "x_DEC=pd.read_csv(r'D:\\Collections\\Adhoc\\TW\\Data\\TW_DEC.csv')\n",
    "x_DEC=x_DEC[(x_DEC.OPEN_DPD_BKT_GRP==3) & (x_DEC.ALLOCATION_TO=='FCE') & (x_DEC.MORAT_FLAG=='SuoMoto')]\n",
    "x_DEC['CUTDATE'] = pd.to_datetime(x_DEC.CUTDATE)\n",
    "x_DEC['MONTH']=x_DEC.CUTDATE.dt.to_period('M')\n",
    "x_DEC['ALLOCATION_CODE'] =x_DEC.ALLOCATION_CODE.str.strip()\n",
    "x_DEC.shape\n",
    "x_DEC=x_DEC.merge(incent_df[['ALLOCATION_CODE','Amount','MONTH']],on=['ALLOCATION_CODE','MONTH'],how='left')\n",
    "x_DEC.shape\n",
    "x_DEC=x_DEC[~x_DEC.duplicated(subset=['AGMTNO','CUTDATE'])]\n",
    "x_DEC.Amount.fillna(0,inplace=True)\n",
    "x_DEC.shape\n"
   ]
  },
  {
   "cell_type": "code",
   "execution_count": 121,
   "metadata": {},
   "outputs": [],
   "source": [
    "def create_inct_step(df):\n",
    "    incent_mean=df.Tot_Incentive.mean()\n",
    "    df['incentive_incr']=None\n",
    "    df.loc[df.Tot_Incentive <100,'incentive_incr']='incentive lt 100'\n",
    "    df.loc[df.Tot_Incentive.between(100,1000,inclusive=True),'incentive_incr']='incentive bw 100-1000'\n",
    "    df.loc[df.Tot_Incentive.between(1000,2000,inclusive=True),'incentive_incr']='incentive bw 1000-2000'\n",
    "    df.loc[df.Tot_Incentive.between(2000,3000,inclusive=True),'incentive_incr']='incentive bw 2000-3000'\n",
    "    df.loc[df.Tot_Incentive.between(3000,4000,inclusive=True),'incentive_incr']='incentive bw 3000-4000'\n",
    "    #df.loc[df.Tot_Incentive.between(4000,5000,inclusive=True),'incentive_incr']='incentive bw 4000-5000'\n",
    "    #df.loc[df.Tot_Incentive.between(5000,6000,inclusive=True),'incentive_incr']='incentive bw 5000-6000'\n",
    "    #df.loc[df.Tot_Incentive.between(6000,7000,inclusive=True),'incentive_incr']='incentive bw 6000-7000'\n",
    "    df.loc[df.Tot_Incentive >4000,'incentive_incr']='incentive gt 4000'\n",
    "    df['Eff_change']=(df.Eff-df.Eff.mean())\n",
    "    print(df['incentive_incr'].value_counts(dropna=False))"
   ]
  },
  {
   "cell_type": "code",
   "execution_count": 122,
   "metadata": {},
   "outputs": [
    {
     "name": "stdout",
     "output_type": "stream",
     "text": [
      "incentive bw 100-1000     2911\n",
      "incentive lt 100          1235\n",
      "incentive bw 1000-2000     773\n",
      "incentive bw 2000-3000     207\n",
      "incentive bw 3000-4000     181\n",
      "incentive gt 4000           56\n",
      "Name: incentive_incr, dtype: int64\n"
     ]
    },
    {
     "data": {
      "text/plain": [
       "(5363, 7)"
      ]
     },
     "execution_count": 122,
     "metadata": {},
     "output_type": "execute_result"
    },
    {
     "name": "stdout",
     "output_type": "stream",
     "text": [
      "incentive bw 100-1000     2742\n",
      "incentive lt 100           886\n",
      "incentive bw 1000-2000     532\n",
      "incentive gt 4000          339\n",
      "incentive bw 2000-3000     287\n",
      "incentive bw 3000-4000     240\n",
      "Name: incentive_incr, dtype: int64\n"
     ]
    },
    {
     "data": {
      "text/plain": [
       "(5026, 7)"
      ]
     },
     "execution_count": 122,
     "metadata": {},
     "output_type": "execute_result"
    },
    {
     "name": "stdout",
     "output_type": "stream",
     "text": [
      "incentive gt 4000         1280\n",
      "incentive bw 1000-2000    1184\n",
      "incentive bw 100-1000      852\n",
      "incentive lt 100           599\n",
      "incentive bw 2000-3000     583\n",
      "incentive bw 3000-4000     532\n",
      "Name: incentive_incr, dtype: int64\n"
     ]
    },
    {
     "data": {
      "text/plain": [
       "(5030, 7)"
      ]
     },
     "execution_count": 122,
     "metadata": {},
     "output_type": "execute_result"
    },
    {
     "data": {
      "text/plain": [
       "(15419, 7)"
      ]
     },
     "execution_count": 122,
     "metadata": {},
     "output_type": "execute_result"
    }
   ],
   "source": [
    "## For OCT\n",
    "incent_OCT_SM_df= x_OCT.groupby(['ALLOCATION_CODE']).aggregate({'Amount':np.mean,'TOT_COLLECTABLE_AMT':np.sum,'TOT_COLLECTED_AMT':np.sum,'AGMTNO':'count',})\n",
    "incent_OCT_SM_df.rename(columns={'Amount':'Tot_Incentive','AGMTNO':'No_of_Cases'},inplace=True)\n",
    "incent_OCT_SM_df['Eff']=100*incent_OCT_SM_df.TOT_COLLECTED_AMT/ incent_OCT_SM_df.TOT_COLLECTABLE_AMT\n",
    "create_inct_step(incent_OCT_SM_df)    \n",
    "incent_OCT_SM_df.shape\n",
    "#incent_OCT_SM_df.head()\n",
    "\n",
    "## For NOV\n",
    "incent_NOV_SM_df= x_NOV.groupby(['ALLOCATION_CODE']).aggregate({'Amount':np.mean,'TOT_COLLECTABLE_AMT':np.sum,'TOT_COLLECTED_AMT':np.sum,'AGMTNO':'count',})\n",
    "incent_NOV_SM_df.rename(columns={'Amount':'Tot_Incentive','AGMTNO':'No_of_Cases'},inplace=True)\n",
    "incent_NOV_SM_df['Eff']=100*incent_NOV_SM_df.TOT_COLLECTED_AMT/ incent_NOV_SM_df.TOT_COLLECTABLE_AMT\n",
    "create_inct_step(incent_NOV_SM_df)    \n",
    "incent_NOV_SM_df.shape\n",
    "\n",
    "## For DEC\n",
    "incent_DEC_SM_df= x_DEC.groupby(['ALLOCATION_CODE']).aggregate({'Amount':np.mean,'TOT_COLLECTABLE_AMT':np.sum,'TOT_COLLECTED_AMT':np.sum,'AGMTNO':'count',})\n",
    "incent_DEC_SM_df.rename(columns={'Amount':'Tot_Incentive','AGMTNO':'No_of_Cases'},inplace=True)\n",
    "incent_DEC_SM_df['Eff']=100*incent_DEC_SM_df.TOT_COLLECTED_AMT/ incent_DEC_SM_df.TOT_COLLECTABLE_AMT\n",
    "create_inct_step(incent_DEC_SM_df)    \n",
    "incent_DEC_SM_df.shape\n",
    "#incent_DEC_SM_df.head()\n",
    "\n",
    "incent_final_SM_df=pd.concat([incent_OCT_SM_df,incent_NOV_SM_df,incent_DEC_SM_df],ignore_index=True)\n",
    "#incent_final_SM_df=pd.concat([incent_DEC_SM_df],ignore_index=True)\n",
    "incent_final_SM_df.shape"
   ]
  },
  {
   "cell_type": "code",
   "execution_count": 123,
   "metadata": {},
   "outputs": [
    {
     "data": {
      "text/plain": [
       "21.344967517241056"
      ]
     },
     "execution_count": 123,
     "metadata": {},
     "output_type": "execute_result"
    },
    {
     "data": {
      "text/plain": [
       "<AxesSubplot:ylabel='incentive_incr'>"
      ]
     },
     "execution_count": 123,
     "metadata": {},
     "output_type": "execute_result"
    },
    {
     "data": {
      "text/plain": [
       "Text(0.5, 0, 'Increase in Eff (from No_incentive Eff)')"
      ]
     },
     "execution_count": 123,
     "metadata": {},
     "output_type": "execute_result"
    },
    {
     "data": {
      "text/plain": [
       "Text(0, 0.5, '')"
      ]
     },
     "execution_count": 123,
     "metadata": {},
     "output_type": "execute_result"
    },
    {
     "data": {
      "text/plain": [
       "Text(0.5, 1.0, 'BKT3 EFF INCREASE vs INCENTIVE INCREASE: SUO MORAT')"
      ]
     },
     "execution_count": 123,
     "metadata": {},
     "output_type": "execute_result"
    },
    {
     "data": {
      "image/png": "[encoded data removed]",
      "text/plain": [
       "<Figure size 432x288 with 1 Axes>"
      ]
     },
     "metadata": {
      "needs_background": "light"
     },
     "output_type": "display_data"
    }
   ],
   "source": [
    "mean_lt100=incent_final_SM_df.query(\"incentive_incr=='incentive lt 100'\").Eff.mean()\n",
    "mean_lt100\n",
    "tmp=(incent_final_SM_df.groupby('incentive_incr').Eff.mean()-mean_lt100)\n",
    "tmp.drop(index='incentive lt 100',inplace=True)\n",
    "#tmp=100*tmp/mean_lt100\n",
    "tmp.plot(kind='barh')\n",
    "plt.xlabel(\"Increase in Eff (from No_incentive Eff)\")\n",
    "plt.ylabel(\"\")\n",
    "plt.title(\"BKT3 EFF INCREASE vs INCENTIVE INCREASE: SUO MORAT\")"
   ]
  },
  {
   "cell_type": "code",
   "execution_count": 124,
   "metadata": {},
   "outputs": [
    {
     "data": {
      "text/plain": [
       "<AxesSubplot:xlabel='incentive_incr'>"
      ]
     },
     "execution_count": 124,
     "metadata": {},
     "output_type": "execute_result"
    },
    {
     "data": {
      "text/plain": [
       "Text(0.5, 0, '')"
      ]
     },
     "execution_count": 124,
     "metadata": {},
     "output_type": "execute_result"
    },
    {
     "data": {
      "text/plain": [
       "Text(0, 0.5, 'Increase in Eff (from No_incentive Eff)')"
      ]
     },
     "execution_count": 124,
     "metadata": {},
     "output_type": "execute_result"
    },
    {
     "data": {
      "text/plain": [
       "(array([-0.500000, 0.000000, 0.500000, 1.000000, 1.500000, 2.000000,\n",
       "        2.500000, 3.000000, 3.500000, 4.000000, 4.500000]),\n",
       " [Text(-0.5, 0, ''),\n",
       "  Text(0.0, 0, 'incentive bw 100-1000'),\n",
       "  Text(0.5, 0, ''),\n",
       "  Text(1.0, 0, 'incentive bw 1000-2000'),\n",
       "  Text(1.5, 0, ''),\n",
       "  Text(2.0, 0, 'incentive bw 2000-3000'),\n",
       "  Text(2.5, 0, ''),\n",
       "  Text(3.0, 0, 'incentive bw 3000-4000'),\n",
       "  Text(3.5, 0, ''),\n",
       "  Text(4.0, 0, 'incentive gt 4000'),\n",
       "  Text(4.5, 0, '')])"
      ]
     },
     "execution_count": 124,
     "metadata": {},
     "output_type": "execute_result"
    },
    {
     "data": {
      "text/plain": [
       "Text(0.5, 1.0, 'BKT3 EFF INCREASE vs INCENTIVE INCREASE')"
      ]
     },
     "execution_count": 124,
     "metadata": {},
     "output_type": "execute_result"
    },
    {
     "data": {
      "image/png": "[encoded data removed]",
      "text/plain": [
       "<Figure size 432x288 with 1 Axes>"
      ]
     },
     "metadata": {
      "needs_background": "light"
     },
     "output_type": "display_data"
    }
   ],
   "source": [
    "tmp.plot()\n",
    "plt.xlabel(\"\")\n",
    "plt.ylabel(\"Increase in Eff (from No_incentive Eff)\")\n",
    "plt.xticks(rotation = 90)\n",
    "plt.title(\"BKT3 EFF INCREASE vs INCENTIVE INCREASE\")"
   ]
  },
  {
   "cell_type": "code",
   "execution_count": 125,
   "metadata": {},
   "outputs": [
    {
     "data": {
      "text/plain": [
       "incentive_incr\n",
       "incentive bw 100-1000    0.34\n",
       "incentive bw 1000-2000   2.20\n",
       "incentive bw 2000-3000   3.51\n",
       "incentive bw 3000-4000   3.23\n",
       "incentive gt 4000        4.32\n",
       "Name: Eff, dtype: float64"
      ]
     },
     "execution_count": 125,
     "metadata": {},
     "output_type": "execute_result"
    }
   ],
   "source": [
    "tmp"
   ]
  }
 ],
 "metadata": {
  "kernelspec": {
   "display_name": "Python 3",
   "language": "python",
   "name": "python3"
  },
  "language_info": {
   "codemirror_mode": {
    "name": "ipython",
    "version": 3
   },
   "file_extension": ".py",
   "mimetype": "text/x-python",
   "name": "python",
   "nbconvert_exporter": "python",
   "pygments_lexer": "ipython3",
   "version": "3.7.4"
  }
 },
 "nbformat": 4,
 "nbformat_minor": 2
}
